{
 "cells": [
  {
   "cell_type": "markdown",
   "id": "71a26148-1ca1-41ed-a883-8cc921976967",
   "metadata": {},
   "source": [
    "## FUNCTIONS\n",
    "# Python hav-s some special predifend functions.\n",
    "# Also, if we need to a function, we can defined a function according to our needings.\n",
    "# Some predefined functions are library. Therefor we need to call the library.\n",
    "# zip, range examples for some method or function, and random is an example for library.\n",
    "# Libraries are a list of some defined specials.\n",
    "# If we want to ensure a function, we can make like that:\n",
    "# def sampleFunction ():\n",
    "#     print(\"Example\")\n",
    "# def is key word for define to function.\n",
    "# The second area is our function name and everytime all functions have () and for that we made it.\n",
    "# After we entitle of our function we start to write the function specials. Next line for that."
   ]
  },
  {
   "cell_type": "code",
   "execution_count": 3,
   "id": "67306d09-f91e-42b9-ba87-47ba7580fc1f",
   "metadata": {},
   "outputs": [],
   "source": [
    "## Examples:\n",
    "\n",
    "def sampleFunction ():\n",
    "    print(\"This is an example\")"
   ]
  },
  {
   "cell_type": "code",
   "execution_count": 5,
   "id": "ab2eb4a5-a15d-4420-97a0-2ff17efbf0ff",
   "metadata": {},
   "outputs": [
    {
     "name": "stdout",
     "output_type": "stream",
     "text": [
      "This is an example\n",
      "None\n"
     ]
    }
   ],
   "source": [
    "print(sampleFunction())"
   ]
  },
  {
   "cell_type": "code",
   "execution_count": 6,
   "id": "5947e249-d16f-4dd9-aa5d-83cad8091e6b",
   "metadata": {},
   "outputs": [],
   "source": [
    "## Arguments:\n",
    "# Arguments write in () and they give some inputs to the functions.\n",
    "# We can give unlimited arguments and we can give any variables.\n",
    "\n",
    "def firstFunction (x, y):\n",
    "    print(x * y)"
   ]
  },
  {
   "cell_type": "code",
   "execution_count": 7,
   "id": "ac748067-e2e1-4f86-ada3-46ff4bd093bf",
   "metadata": {},
   "outputs": [
    {
     "name": "stdout",
     "output_type": "stream",
     "text": [
      "75\n"
     ]
    }
   ],
   "source": [
    "firstFunction(5, 15)"
   ]
  },
  {
   "cell_type": "code",
   "execution_count": 8,
   "id": "e33a6774-3746-4d4d-bcdf-3bd5019d39d1",
   "metadata": {},
   "outputs": [],
   "source": [
    "def secondFunction(a):\n",
    "    print(a)\n",
    "    if a == \"Hello World\":\n",
    "        print(\"Well done, you wrote 'Hello World'\")\n",
    "    else:\n",
    "        print(\"Not well done! Because you didn't write 'Hello World'\")"
   ]
  },
  {
   "cell_type": "code",
   "execution_count": 11,
   "id": "05d99824-74e7-4763-b2c4-82e67af64226",
   "metadata": {},
   "outputs": [
    {
     "name": "stdout",
     "output_type": "stream",
     "text": [
      "Hello\n",
      "Not well done! Because you didn't write 'Hello World'\n"
     ]
    }
   ],
   "source": [
    "secondFunction(\"Hello\")"
   ]
  },
  {
   "cell_type": "code",
   "execution_count": 13,
   "id": "8a21fc9d-9632-49a1-81ef-f1fb6dfb3242",
   "metadata": {},
   "outputs": [],
   "source": [
    "# args and kwargs\n",
    "# If we want to add changing number arguments that according to users, we can make that due to args and kwargs.\n",
    "# arg spins tuple variables.\n",
    "# kwarg spins dict variables.\n",
    "\n",
    "#NOTE:\n",
    "# If we want to use the variable out of the function. We can do that due to \"return\".\n",
    "\n",
    "def thirdFunction(*args):\n",
    "    return sum(args)"
   ]
  },
  {
   "cell_type": "code",
   "execution_count": 14,
   "id": "9fac79e9-611b-4ef3-9b3d-c0938501d07c",
   "metadata": {},
   "outputs": [
    {
     "data": {
      "text/plain": [
       "150"
      ]
     },
     "execution_count": 14,
     "metadata": {},
     "output_type": "execute_result"
    }
   ],
   "source": [
    "thirdFunction(10, 20, 30, 40, 50)"
   ]
  },
  {
   "cell_type": "code",
   "execution_count": 15,
   "id": "404304f3-20a4-49b0-a761-8f89232bca29",
   "metadata": {},
   "outputs": [],
   "source": [
    "def fourthFunction(*args):\n",
    "    if \"hello\" in args:\n",
    "        print(\"There is hello\")\n",
    "    else:\n",
    "        print(\"There isn't hello\")"
   ]
  },
  {
   "cell_type": "code",
   "execution_count": 17,
   "id": "023d36b8-1f4b-45c9-aa4f-a99e93105b69",
   "metadata": {},
   "outputs": [
    {
     "name": "stdout",
     "output_type": "stream",
     "text": [
      "There isn't hello\n"
     ]
    }
   ],
   "source": [
    "fourthFunction(\"no\", \"lorem\", \"ipsum\")"
   ]
  },
  {
   "cell_type": "code",
   "execution_count": 18,
   "id": "8b3a84a7-0836-4d0a-be13-233bf46cc8d1",
   "metadata": {},
   "outputs": [],
   "source": [
    "def fifthFunction(**kwargs):\n",
    "    return(kwargs)"
   ]
  },
  {
   "cell_type": "code",
   "execution_count": 19,
   "id": "c3c05f13-54d7-4702-b76e-cd1cb805b45d",
   "metadata": {},
   "outputs": [
    {
     "data": {
      "text/plain": [
       "{'first': 1, 'second': 2, 'third': 3}"
      ]
     },
     "execution_count": 19,
     "metadata": {},
     "output_type": "execute_result"
    }
   ],
   "source": [
    "fifthFunction(first = 1, second = 2, third = 3)"
   ]
  },
  {
   "cell_type": "code",
   "execution_count": 21,
   "id": "d876bffe-2072-4ad7-8775-b4dc3ccc6c13",
   "metadata": {},
   "outputs": [],
   "source": [
    "# We can define some arguments and if don't write anything, that'll write as that value.\n",
    "\n",
    "def sixthFunction(x, y = 15):\n",
    "    print(x + y)"
   ]
  },
  {
   "cell_type": "code",
   "execution_count": 22,
   "id": "dde9fcc8-c117-4fc6-ab4e-90f2761453aa",
   "metadata": {},
   "outputs": [
    {
     "name": "stdout",
     "output_type": "stream",
     "text": [
      "55\n"
     ]
    }
   ],
   "source": [
    "sixthFunction(40)"
   ]
  },
  {
   "cell_type": "code",
   "execution_count": 23,
   "id": "ac25adb0-e8c2-4d5b-9ec1-9f0de925c4a4",
   "metadata": {},
   "outputs": [
    {
     "name": "stdout",
     "output_type": "stream",
     "text": [
      "110\n"
     ]
    }
   ],
   "source": [
    "sixthFunction(40, 70)"
   ]
  },
  {
   "cell_type": "code",
   "execution_count": null,
   "id": "09975777-4e2c-4e97-b7f9-0a69695f6f63",
   "metadata": {},
   "outputs": [],
   "source": []
  }
 ],
 "metadata": {
  "kernelspec": {
   "display_name": "Python [conda env:base] *",
   "language": "python",
   "name": "conda-base-py"
  },
  "language_info": {
   "codemirror_mode": {
    "name": "ipython",
    "version": 3
   },
   "file_extension": ".py",
   "mimetype": "text/x-python",
   "name": "python",
   "nbconvert_exporter": "python",
   "pygments_lexer": "ipython3",
   "version": "3.13.5"
  }
 },
 "nbformat": 4,
 "nbformat_minor": 5
}
