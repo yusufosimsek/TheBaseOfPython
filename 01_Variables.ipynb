{
 "cells": [
  {
   "cell_type": "code",
   "execution_count": null,
   "id": "ab57e0f0-eb06-4bd8-8556-bd61ec788f16",
   "metadata": {},
   "outputs": [],
   "source": [
    "## Variables\n",
    "## Variables are ensuring to atttitude any value of anything and as we can call them.\n",
    "## Example: If we say x = 5 and we call the x: x * 10 (output says us =50)."
   ]
  },
  {
   "cell_type": "code",
   "execution_count": 1,
   "id": "5dac35e8-09bc-45bb-9984-7c2c617a9d6f",
   "metadata": {},
   "outputs": [
    {
     "data": {
      "text/plain": [
       "150"
      ]
     },
     "execution_count": 1,
     "metadata": {},
     "output_type": "execute_result"
    }
   ],
   "source": [
    "x = 10\n",
    "y = 15\n",
    "x * y"
   ]
  },
  {
   "cell_type": "code",
   "execution_count": 2,
   "id": "8fd1b9cd-5104-41ce-8df1-12a86f15f3d6",
   "metadata": {},
   "outputs": [],
   "source": [
    "## Types of Variables\n",
    "\n",
    "# Int:\n",
    "# Integer numbers variable\n",
    "\n",
    "# Float:\n",
    "# Fractional numbers variable\n",
    "\n",
    "# str:\n",
    "# Text type variable. It writes between \" \" or ' '.\n",
    "\n",
    "# bool:\n",
    "# Logical variable: Ture or False, 0 or 1\n",
    "\n",
    "# List:\n",
    "# Lists have one more than variables in.\n",
    "\n",
    "# Dict:\n",
    "# Dictionaries make value-object pairing.\n",
    "\n",
    "# Set:\n",
    "# Sets like lists but different side is sets don't have same value one more than.\n",
    "\n",
    "# Tuple:\n",
    "# Like lists but tuple contents couldn't change.\n",
    "\n",
    "## We can query which type any variable due to \"type()\" method."
   ]
  },
  {
   "cell_type": "code",
   "execution_count": 8,
   "id": "de502716-157b-44f0-913b-34635dec0305",
   "metadata": {},
   "outputs": [
    {
     "data": {
      "text/plain": [
       "str"
      ]
     },
     "execution_count": 8,
     "metadata": {},
     "output_type": "execute_result"
    }
   ],
   "source": [
    "x = 5\n",
    "y = 10.5\n",
    "z = \"Hello World!\"\n",
    "\n",
    "type(x)\n",
    "type(y)\n",
    "type(z)"
   ]
  },
  {
   "cell_type": "code",
   "execution_count": 9,
   "id": "3fb8cfbc-573a-4ace-bbc8-a53c3b2220fe",
   "metadata": {},
   "outputs": [
    {
     "data": {
      "text/plain": [
       "str"
      ]
     },
     "execution_count": 9,
     "metadata": {},
     "output_type": "execute_result"
    }
   ],
   "source": [
    "## Changing to Variables\n",
    "# Therefor variableType(variableName) is used.\n",
    "\n",
    "a = \"5\"\n",
    "type(a)"
   ]
  },
  {
   "cell_type": "code",
   "execution_count": 13,
   "id": "9b8106b3-8082-42fa-97ff-4defb9dbe93d",
   "metadata": {},
   "outputs": [
    {
     "data": {
      "text/plain": [
       "5"
      ]
     },
     "execution_count": 13,
     "metadata": {},
     "output_type": "execute_result"
    }
   ],
   "source": [
    "int(a)"
   ]
  },
  {
   "cell_type": "code",
   "execution_count": 16,
   "id": "9194eb1d-eb1a-4fc3-9b07-10f48c3b95c2",
   "metadata": {},
   "outputs": [
    {
     "data": {
      "text/plain": [
       "list"
      ]
     },
     "execution_count": 16,
     "metadata": {},
     "output_type": "execute_result"
    }
   ],
   "source": [
    "## Lists:\n",
    "\n",
    "FirstList = [10, 20, 30, 40, 50]\n",
    "type(FirstList)"
   ]
  },
  {
   "cell_type": "code",
   "execution_count": 17,
   "id": "c2b7cf5b-8180-4203-8e16-3f25e0b250fe",
   "metadata": {},
   "outputs": [],
   "source": [
    "FirstList.append(60)"
   ]
  },
  {
   "cell_type": "code",
   "execution_count": 19,
   "id": "231e1e95-e2e0-479c-ac85-b96db613bb7a",
   "metadata": {},
   "outputs": [],
   "source": [
    "FirstList[0] = 15"
   ]
  },
  {
   "cell_type": "code",
   "execution_count": 21,
   "id": "b76e4bef-5432-4040-b0e5-885ec1f050b7",
   "metadata": {},
   "outputs": [
    {
     "data": {
      "text/plain": [
       "dict"
      ]
     },
     "execution_count": 21,
     "metadata": {},
     "output_type": "execute_result"
    }
   ],
   "source": [
    "# Dict:\n",
    "\n",
    "firstDict = {1 : \"First\", 2 : \"Second\", 3 : \"Third\"} \n",
    "type(firstDict)"
   ]
  },
  {
   "cell_type": "code",
   "execution_count": 23,
   "id": "d5eddcb6-716f-4b6b-a919-235769cacd25",
   "metadata": {},
   "outputs": [
    {
     "name": "stdout",
     "output_type": "stream",
     "text": [
      "First\n"
     ]
    }
   ],
   "source": [
    "print(firstDict[1])"
   ]
  },
  {
   "cell_type": "code",
   "execution_count": 26,
   "id": "8b4eb671-9904-4c75-bcbc-d0903825086c",
   "metadata": {},
   "outputs": [
    {
     "data": {
      "text/plain": [
       "{1, 2, 3, 4}"
      ]
     },
     "execution_count": 26,
     "metadata": {},
     "output_type": "execute_result"
    }
   ],
   "source": [
    "## Set:\n",
    "\n",
    "firstSet = {1, 2, 3, 4, 1}\n",
    "firstSet\n",
    "\n",
    "#Didn't call second \"1\" value."
   ]
  },
  {
   "cell_type": "code",
   "execution_count": 34,
   "id": "57db139a-0e78-4c3b-8992-a0483b5be195",
   "metadata": {},
   "outputs": [
    {
     "data": {
      "text/plain": [
       "tuple"
      ]
     },
     "execution_count": 34,
     "metadata": {},
     "output_type": "execute_result"
    }
   ],
   "source": [
    "## Tuple:\n",
    "\n",
    "firstTuple = (1, 2, \"a\", \"b\")\n",
    "type(firstTuple)"
   ]
  },
  {
   "cell_type": "code",
   "execution_count": 33,
   "id": "9d8600cd-2a4f-44dd-8a24-9e642f6c478b",
   "metadata": {},
   "outputs": [],
   "source": [
    "##None type values. \n",
    "##NOTE: Usually none types isn't mixed but dict and set have same syntax. For that these are could have mixed.\n",
    "# For that we can use as indicate types.\n",
    "\n",
    "noneSetSample = set()\n",
    "noneDictSample = dict()\n",
    "noneListSample = list()\n",
    "\n",
    "## Also, we can append some values in.\n",
    "noneSetSample.add(10)\n",
    "noneDictSample[\"Hello\"] = \"Hello World!\"\n",
    "noneListSample.append(45)"
   ]
  }
 ],
 "metadata": {
  "kernelspec": {
   "display_name": "Python [conda env:base] *",
   "language": "python",
   "name": "conda-base-py"
  },
  "language_info": {
   "codemirror_mode": {
    "name": "ipython",
    "version": 3
   },
   "file_extension": ".py",
   "mimetype": "text/x-python",
   "name": "python",
   "nbconvert_exporter": "python",
   "pygments_lexer": "ipython3",
   "version": "3.13.5"
  }
 },
 "nbformat": 4,
 "nbformat_minor": 5
}
