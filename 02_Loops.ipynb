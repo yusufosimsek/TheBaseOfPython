{
 "cells": [
  {
   "cell_type": "markdown",
   "id": "2311ec5a-fab9-4748-a628-8e8b952d2802",
   "metadata": {},
   "source": [
    "## Loops\n",
    "# loops ensure some conditions and due to we can write which time which condition becomes, that's ensured."
   ]
  },
  {
   "cell_type": "code",
   "execution_count": 2,
   "id": "3884b1c4-0f0d-401f-921b-51e021e29d19",
   "metadata": {},
   "outputs": [],
   "source": [
    "## Logical and Mathematical Operators\n",
    "# +: Addition\n",
    "# - : Subsriction\n",
    "# * : Multiplication\n",
    "# / : Division\n",
    "# % : Mode\n",
    "# x:y : From x to y\n",
    "# x:y:z : From x to y, skipping by z\n",
    "# < : Smaller than\n",
    "# > : Bigger than\n",
    "# <= : Smaller than or equal\n",
    "# >= : Bigger than or equal\n",
    "# = : Any value equal to any value\n",
    "# == : Mathematical and logical mean equal\n",
    "# != : Not equal\n",
    "# and : And\n",
    "# or : Or\n",
    "# not : not\n",
    "# in : in"
   ]
  },
  {
   "cell_type": "code",
   "execution_count": 3,
   "id": "34b47a74-b082-457e-8493-ca7391c21efc",
   "metadata": {},
   "outputs": [
    {
     "name": "stdout",
     "output_type": "stream",
     "text": [
      "y is bigger than from x\n"
     ]
    }
   ],
   "source": [
    "# if, elif, else loops\n",
    "# The loops base is if. If loops work when the if condition ensures.\n",
    "# If we have one more than conditions, we will use elif and else but else is the last and just one.\n",
    "# If too just one. But we have 2 more than conditions, for every conditions we use elif.\n",
    "\n",
    "x = 5\n",
    "y = 10\n",
    "z = 15\n",
    "\n",
    "if x < y:\n",
    "    print(\"y is bigger than from x\")"
   ]
  },
  {
   "cell_type": "code",
   "execution_count": 4,
   "id": "791e9bb5-5693-4317-afbe-65a8052c9e50",
   "metadata": {},
   "outputs": [
    {
     "name": "stdout",
     "output_type": "stream",
     "text": [
      "x and y equal together\n"
     ]
    }
   ],
   "source": [
    "x = \"lorem\"\n",
    "y = \"lorem\"\n",
    "z = \"ipsum\"\n",
    "\n",
    "if x == z:\n",
    "    print(\"The two values are equal\")\n",
    "elif y == x:\n",
    "    print(\"x and y equal together\")"
   ]
  },
  {
   "cell_type": "code",
   "execution_count": 5,
   "id": "c02a3c43-4def-47e5-b08e-066eabb4ed10",
   "metadata": {},
   "outputs": [
    {
     "name": "stdout",
     "output_type": "stream",
     "text": [
      "x and y equal together\n"
     ]
    }
   ],
   "source": [
    "if x == z:\n",
    "    print(\"The two values are equal\")\n",
    "elif y == x and x == y:\n",
    "    print(\"x and y equal together\")\n",
    "elif not y == z:\n",
    "    print(\"y and z are not equal together\")"
   ]
  },
  {
   "cell_type": "code",
   "execution_count": 7,
   "id": "98b4a1e7-c33d-44e3-aced-548d8a626f7f",
   "metadata": {},
   "outputs": [
    {
     "name": "stdout",
     "output_type": "stream",
     "text": [
      "Other results\n"
     ]
    }
   ],
   "source": [
    "if x == z:\n",
    "    print(\"The two values are equal\")\n",
    "elif y == x and x == z:\n",
    "    print(\"x and y equal together\")\n",
    "elif not y != z:\n",
    "    print(\"y and z are not equal together\")\n",
    "else:\n",
    "    print(\"Other results\")"
   ]
  },
  {
   "cell_type": "code",
   "execution_count": 10,
   "id": "94a66aca-5272-4a45-b18a-926ea1c98e32",
   "metadata": {},
   "outputs": [
    {
     "name": "stdout",
     "output_type": "stream",
     "text": [
      "20\n",
      "40\n",
      "60\n",
      "80\n",
      "100\n"
     ]
    }
   ],
   "source": [
    "## For Loops\n",
    "# In any lists, variables or anything if we have regular a conditions, we will use for loop.\n",
    "\n",
    "a = [10, 20, 30, 40, 50]\n",
    "for lorem in a:\n",
    "    print(lorem * 2)"
   ]
  },
  {
   "cell_type": "code",
   "execution_count": 13,
   "id": "20fbbcfd-74bc-49b3-9b06-0fe63f6b31b3",
   "metadata": {},
   "outputs": [
    {
     "name": "stdout",
     "output_type": "stream",
     "text": [
      "40\n",
      "50\n",
      "100\n"
     ]
    }
   ],
   "source": [
    "for hello in a:\n",
    "    if hello >= 40:\n",
    "        print(hello)\n",
    "        if hello > 40:\n",
    "            print(hello * 2)"
   ]
  },
  {
   "cell_type": "code",
   "execution_count": 14,
   "id": "026b4c24-cd69-41f1-8196-ff8da8ce7deb",
   "metadata": {},
   "outputs": [
    {
     "name": "stdout",
     "output_type": "stream",
     "text": [
      "1\n",
      "4\n",
      "7\n"
     ]
    }
   ],
   "source": [
    "# Using with Dictionaries, Lists\n",
    "\n",
    "aList = [[1, 2, 3], [4, 5, 6], [7, 8, 9]]\n",
    "for (x, y, z) in aList:\n",
    "    print(x)"
   ]
  },
  {
   "cell_type": "code",
   "execution_count": 19,
   "id": "70c23fd4-3a4c-4369-a9b3-ee192bf05ee3",
   "metadata": {},
   "outputs": [
    {
     "name": "stdout",
     "output_type": "stream",
     "text": [
      "5\n",
      "10\n",
      "15\n"
     ]
    }
   ],
   "source": [
    "aDic = {\"a\" : 1, \"b\" : 2, \"c\" : 3}\n",
    "for (keys, values) in aDic.items():\n",
    "    print(values * 5)"
   ]
  },
  {
   "cell_type": "code",
   "execution_count": 23,
   "id": "e581c0bd-09d4-4928-ae61-b5446b95e165",
   "metadata": {},
   "outputs": [
    {
     "name": "stdout",
     "output_type": "stream",
     "text": [
      "10\n"
     ]
    }
   ],
   "source": [
    "# break, continue, pass\n",
    "\n",
    "secondList = [5, 10, 15, 20]\n",
    "for num in secondList:\n",
    "    if num == 10:\n",
    "        break\n",
    "    print(num * 2)"
   ]
  },
  {
   "cell_type": "code",
   "execution_count": 25,
   "id": "28b5c1f2-5bbd-4a49-9c1b-2d2c6974a096",
   "metadata": {},
   "outputs": [
    {
     "name": "stdout",
     "output_type": "stream",
     "text": [
      "1.0\n",
      "3.0\n",
      "4.0\n"
     ]
    }
   ],
   "source": [
    "for num in secondList:\n",
    "    if num == 10:\n",
    "        continue\n",
    "    print(num / 5)"
   ]
  },
  {
   "cell_type": "code",
   "execution_count": 27,
   "id": "6edd8835-9ab8-4cce-bfe5-df5dc368b79f",
   "metadata": {},
   "outputs": [],
   "source": [
    "for num in secondList:\n",
    "    pass\n",
    "#Pass is used for to write nothing. So if we need to a condition for next times, we use that."
   ]
  },
  {
   "cell_type": "code",
   "execution_count": 28,
   "id": "54a1ddad-b2ea-4b64-b72f-6bbdcc572f99",
   "metadata": {},
   "outputs": [
    {
     "name": "stdout",
     "output_type": "stream",
     "text": [
      "1\n",
      "2\n",
      "3\n",
      "4\n",
      "5\n",
      "6\n",
      "7\n",
      "8\n",
      "9\n",
      "10\n",
      "11\n"
     ]
    }
   ],
   "source": [
    "# while loop\n",
    "\n",
    "x = 1\n",
    "while x < 12:\n",
    "    print(x)\n",
    "    x = x + 1"
   ]
  },
  {
   "cell_type": "code",
   "execution_count": 32,
   "id": "2d1d7cea-d101-4b3f-a143-549ce25e2567",
   "metadata": {},
   "outputs": [
    {
     "name": "stdout",
     "output_type": "stream",
     "text": [
      "[1, 2, 3, 4, 5, 6, 7]\n",
      "[1, 2, 3, 4, 5, 6]\n",
      "[1, 2, 3, 4, 5]\n",
      "[1, 2, 3, 4]\n"
     ]
    }
   ],
   "source": [
    "x = [1, 2, 3, 4, 5, 6, 7]\n",
    "while 4 in x:\n",
    "    print (x)\n",
    "    x.pop()"
   ]
  },
  {
   "cell_type": "code",
   "execution_count": 35,
   "id": "fe2410f3-de9e-4b9e-8314-88f56972edde",
   "metadata": {},
   "outputs": [
    {
     "name": "stdout",
     "output_type": "stream",
     "text": [
      "1\n",
      "2\n",
      "3\n"
     ]
    }
   ],
   "source": [
    "x = 1\n",
    "while x < 10:\n",
    "    if x == 4:\n",
    "        break\n",
    "    print(x)\n",
    "    x = x + 1\n"
   ]
  },
  {
   "cell_type": "code",
   "execution_count": null,
   "id": "13a9ae0e-ff65-41b2-bd55-9b584dc63280",
   "metadata": {},
   "outputs": [],
   "source": []
  },
  {
   "cell_type": "code",
   "execution_count": null,
   "id": "6c72cf32-0192-4e90-8893-724598e0c7e1",
   "metadata": {},
   "outputs": [],
   "source": []
  },
  {
   "cell_type": "code",
   "execution_count": null,
   "id": "add5527c-3a5c-4482-9af7-92effe334361",
   "metadata": {},
   "outputs": [],
   "source": []
  }
 ],
 "metadata": {
  "kernelspec": {
   "display_name": "Python [conda env:base] *",
   "language": "python",
   "name": "conda-base-py"
  },
  "language_info": {
   "codemirror_mode": {
    "name": "ipython",
    "version": 3
   },
   "file_extension": ".py",
   "mimetype": "text/x-python",
   "name": "python",
   "nbconvert_exporter": "python",
   "pygments_lexer": "ipython3",
   "version": "3.13.5"
  }
 },
 "nbformat": 4,
 "nbformat_minor": 5
}
