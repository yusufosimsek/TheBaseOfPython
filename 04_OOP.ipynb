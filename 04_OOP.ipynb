{
 "cells": [
  {
   "cell_type": "markdown",
   "id": "5979edc4-7cb8-4502-95de-61e9995f466e",
   "metadata": {},
   "source": [
    "## OBJECT ORIENTED PROGRAMMING (OOP)\n",
    "Object oriented programmin is actually the base of modern programming. Python is an oop too.\n"
   ]
  },
  {
   "cell_type": "code",
   "execution_count": 35,
   "id": "384cd2d7-de53-4d9b-955c-f12a8096e014",
   "metadata": {},
   "outputs": [],
   "source": [
    "## Ensuring a Class:\n",
    "\n",
    "class SelfID():\n",
    "    def __init__(self, name, year, job):\n",
    "        print(\"All the knowledges about me\")\n",
    "        self.name = name\n",
    "        self.year = year\n",
    "        self.job = job\n",
    "\n",
    "## We have to write lesat 1 argument and self argument.\n",
    "## If we don't write it, it'll has errrorr messages."
   ]
  },
  {
   "cell_type": "code",
   "execution_count": 4,
   "id": "3eaf092c-e944-4c18-9429-d1d85011e6ee",
   "metadata": {},
   "outputs": [
    {
     "name": "stdout",
     "output_type": "stream",
     "text": [
      "All the knowledges about me\n"
     ]
    }
   ],
   "source": [
    "selfID = SelfID(\"Yusuf Onur Şimşek\", 22, \"jr. data scientist (beginner)\")"
   ]
  },
  {
   "cell_type": "code",
   "execution_count": 11,
   "id": "e09497c8-b340-46e6-b031-3e0cb28f09e0",
   "metadata": {},
   "outputs": [],
   "source": [
    "#Then I can change the knowledges\n",
    "\n",
    "selfID.year = 23"
   ]
  },
  {
   "cell_type": "raw",
   "id": "bf6223f7-a71a-4930-aca3-550f4d3db75a",
   "metadata": {},
   "source": [
    "Methods:\n"
   ]
  },
  {
   "cell_type": "code",
   "execution_count": 30,
   "id": "75d67ac1-dbac-43ce-be61-b187cdfcde0f",
   "metadata": {},
   "outputs": [],
   "source": [
    "class SuperHero():\n",
    "    specialForce = \"\"\n",
    "    def __init__(self, name, power, job):\n",
    "        print(\"The superhero is so powerfull.\")\n",
    "        self.name = name\n",
    "        self.power = power\n",
    "        self.job = job\n",
    "\n",
    "    def exampleMethod(self):\n",
    "        print(\"This is a super hero\")"
   ]
  },
  {
   "cell_type": "code",
   "execution_count": 31,
   "id": "bf181181-eb7a-42b2-9340-26406aad56fc",
   "metadata": {},
   "outputs": [
    {
     "name": "stdout",
     "output_type": "stream",
     "text": [
      "The superhero is so powerfull.\n"
     ]
    }
   ],
   "source": [
    "superHero = SuperHero(\"Spider Man\", 22, \"Student\")"
   ]
  },
  {
   "cell_type": "code",
   "execution_count": 32,
   "id": "99fbeec8-2756-43d0-9f6f-c51162e3d57a",
   "metadata": {},
   "outputs": [],
   "source": [
    "superHero.specialForce = \"cobweb\""
   ]
  },
  {
   "cell_type": "code",
   "execution_count": 33,
   "id": "ec72bd86-83f2-4c55-a679-c7d3f9a07ed7",
   "metadata": {},
   "outputs": [
    {
     "name": "stdout",
     "output_type": "stream",
     "text": [
      "This is a super hero\n"
     ]
    }
   ],
   "source": [
    "superHero.exampleMethod()"
   ]
  },
  {
   "cell_type": "code",
   "execution_count": 36,
   "id": "c58d6cf4-cb74-4e86-90e7-cc6699ac7a29",
   "metadata": {},
   "outputs": [],
   "source": [
    "# We can ensure methods, functions and anything due to classes."
   ]
  },
  {
   "cell_type": "code",
   "execution_count": 42,
   "id": "f7056f69-f0d6-44a1-99ef-be276e4532db",
   "metadata": {},
   "outputs": [],
   "source": [
    "# Default Value\n",
    "# Like functions, predefined arguments.\n",
    "\n",
    "class MyHome():\n",
    "    def __init__(self, year=7):\n",
    "        self.year = year\n",
    "        print(year)"
   ]
  },
  {
   "cell_type": "code",
   "execution_count": 43,
   "id": "6ce53f6f-4076-4937-8e3e-f5e11cfd7e63",
   "metadata": {},
   "outputs": [
    {
     "name": "stdout",
     "output_type": "stream",
     "text": [
      "7\n"
     ]
    }
   ],
   "source": [
    "myHome = MyHome()"
   ]
  },
  {
   "cell_type": "code",
   "execution_count": 50,
   "id": "a6927e21-59bb-411c-a563-5e00bb1b8b40",
   "metadata": {},
   "outputs": [],
   "source": [
    "# Example\n",
    "# kg calculation Moon to The Earth\n",
    "\n",
    "class EarthToMoon():\n",
    "    nCrossing = 6\n",
    "\n",
    "    def __init__(self, N=100):\n",
    "        self.N = N\n",
    "    def moonN(self):\n",
    "        return self.N / self.nCrossing"
   ]
  },
  {
   "cell_type": "code",
   "execution_count": 53,
   "id": "3d95c2fb-2e7e-4f02-8c58-4550ccc5208e",
   "metadata": {},
   "outputs": [],
   "source": [
    "earthToMoon = EarthToMoon()"
   ]
  },
  {
   "cell_type": "code",
   "execution_count": 54,
   "id": "e1772014-eb4e-43ab-980b-72e7557db410",
   "metadata": {},
   "outputs": [
    {
     "data": {
      "text/plain": [
       "16.666666666666668"
      ]
     },
     "execution_count": 54,
     "metadata": {},
     "output_type": "execute_result"
    }
   ],
   "source": [
    "earthToMoon.moonN()"
   ]
  },
  {
   "cell_type": "code",
   "execution_count": 2,
   "id": "fd6edee9-b64d-419b-bb68-67c30f1da01a",
   "metadata": {},
   "outputs": [],
   "source": [
    "## Inheritance\n",
    "# We can define two different classes and we can call for to the second class that first class methods.\n",
    "\n",
    "class FirstClass():\n",
    "    def __init__ (self):\n",
    "        print(\"init\")\n",
    "    def method1(self):\n",
    "        print(\"first method\")\n",
    "    def method2(self):\n",
    "        print(\"second method\")"
   ]
  },
  {
   "cell_type": "code",
   "execution_count": 3,
   "id": "81937f7b-452f-454b-8bdb-f09344c204dd",
   "metadata": {},
   "outputs": [
    {
     "name": "stdout",
     "output_type": "stream",
     "text": [
      "init\n"
     ]
    }
   ],
   "source": [
    "firstClass = FirstClass()"
   ]
  },
  {
   "cell_type": "code",
   "execution_count": 5,
   "id": "afd9b569-95b5-4a96-a4f4-62b5ecfbe965",
   "metadata": {},
   "outputs": [
    {
     "name": "stdout",
     "output_type": "stream",
     "text": [
      "second method\n"
     ]
    }
   ],
   "source": [
    "firstClass.method2()"
   ]
  },
  {
   "cell_type": "code",
   "execution_count": 9,
   "id": "6ac2c696-105f-4304-8b49-9262d62d011d",
   "metadata": {},
   "outputs": [],
   "source": [
    "## Our first class can inherit firt class methods:\n",
    "\n",
    "class SecondClass():\n",
    "    def __init__ (self):\n",
    "        FirstClass. __init__ (self)\n",
    "        print(\"second class methods\")\n",
    "    def secondClassMethod1(self):\n",
    "        print(\"For second class first method\")"
   ]
  },
  {
   "cell_type": "code",
   "execution_count": 10,
   "id": "a379afae-e575-4ba2-bff9-be4fa41b6df7",
   "metadata": {},
   "outputs": [
    {
     "name": "stdout",
     "output_type": "stream",
     "text": [
      "init\n",
      "second class methods\n",
      "For second class first method\n"
     ]
    }
   ],
   "source": [
    "secondClass =  SecondClass()\n",
    "secondClass.secondClassMethod1()"
   ]
  },
  {
   "cell_type": "code",
   "execution_count": 11,
   "id": "6555e66d-bfd8-4d5f-b6ad-ff0d77efeb58",
   "metadata": {},
   "outputs": [],
   "source": [
    "## We can define same name, new methods and the new methods override old methods.\n",
    "\n",
    "class ThirdClass():\n",
    "    def __init__(self):\n",
    "        SecondClass. __init__(self)\n",
    "        print(\"third class methods\")\n",
    "    def method1(self):\n",
    "        print(\"this is third class method\")"
   ]
  },
  {
   "cell_type": "code",
   "execution_count": 12,
   "id": "3d7296fc-1368-470c-85be-a0453e2b1e88",
   "metadata": {},
   "outputs": [
    {
     "name": "stdout",
     "output_type": "stream",
     "text": [
      "init\n",
      "second class methods\n",
      "third class methods\n"
     ]
    }
   ],
   "source": [
    "thirdClass = ThirdClass()"
   ]
  },
  {
   "cell_type": "code",
   "execution_count": 14,
   "id": "d36b4f5f-80c9-4af1-b93d-893fab0fe88c",
   "metadata": {},
   "outputs": [
    {
     "name": "stdout",
     "output_type": "stream",
     "text": [
      "this is third class method\n"
     ]
    }
   ],
   "source": [
    "thirdClass.method1()"
   ]
  },
  {
   "cell_type": "code",
   "execution_count": 30,
   "id": "6168c328-6ddf-4dfd-9e85-d33522f8f4e0",
   "metadata": {},
   "outputs": [],
   "source": [
    "## Polymorphism\n",
    "## If we have two different classes and we have same name methods in when we call them different time but same name,\n",
    "## we will be to call different methods due to polymorphism.\n",
    "\n",
    "class WildAnimals():\n",
    "    def __init__(self, Name, Habitat):\n",
    "        self.Name = Name\n",
    "        self.Habitat = Habitat\n",
    "    def definingText(self):\n",
    "        print(self.Name + \"s \" + \"live in \" + self.Habitat + \".\")"
   ]
  },
  {
   "cell_type": "code",
   "execution_count": 31,
   "id": "88f4b0c5-e820-496c-b7d6-c2670a98217a",
   "metadata": {},
   "outputs": [],
   "source": [
    "class Pet():\n",
    "    def __init__(self, Name):\n",
    "        self.Name = Name\n",
    "    def definingText(self):\n",
    "        print(self.Name + \"s \" + \"live with people.\")"
   ]
  },
  {
   "cell_type": "code",
   "execution_count": 32,
   "id": "0191cc39-2c4f-4e64-99da-c78a6cd39a96",
   "metadata": {},
   "outputs": [],
   "source": [
    "wildAnimals = WildAnimals\n",
    "pet = Pet"
   ]
  },
  {
   "cell_type": "code",
   "execution_count": 37,
   "id": "26998ffa-2c43-4b80-a27a-ccf69f95957e",
   "metadata": {},
   "outputs": [],
   "source": [
    "wildAnimals = WildAnimals(\"lion\", \"forests\")"
   ]
  },
  {
   "cell_type": "code",
   "execution_count": 38,
   "id": "9f3c0785-5a16-4f00-9db9-113cf0862c93",
   "metadata": {},
   "outputs": [
    {
     "name": "stdout",
     "output_type": "stream",
     "text": [
      "lions live in forests.\n"
     ]
    }
   ],
   "source": [
    "wildAnimals.definingText()"
   ]
  },
  {
   "cell_type": "code",
   "execution_count": 39,
   "id": "605247cc-d5bd-452f-aeac-8de18a022594",
   "metadata": {},
   "outputs": [],
   "source": [
    "pet = Pet(\"cat\")"
   ]
  },
  {
   "cell_type": "code",
   "execution_count": 40,
   "id": "c617b3eb-f6a8-4670-ade7-90f3dae73c41",
   "metadata": {},
   "outputs": [
    {
     "name": "stdout",
     "output_type": "stream",
     "text": [
      "cats live with people.\n"
     ]
    }
   ],
   "source": [
    "pet.definingText()"
   ]
  },
  {
   "cell_type": "code",
   "execution_count": 41,
   "id": "70e2e9b9-5aa8-440d-aeeb-02fb3dd80b2a",
   "metadata": {},
   "outputs": [],
   "source": [
    "# We could have written owing to polymorphism speciality."
   ]
  },
  {
   "cell_type": "code",
   "execution_count": 42,
   "id": "401c7bad-f28b-448b-af48-16c107b9ef09",
   "metadata": {},
   "outputs": [],
   "source": [
    "# We have some methods in classes like __init__. These names are \"special methods\" or \"magical methods.\"\n",
    "# We can search in internet when we need them."
   ]
  },
  {
   "cell_type": "code",
   "execution_count": null,
   "id": "19d83862-8da9-41c4-99c4-818df3043f4d",
   "metadata": {},
   "outputs": [],
   "source": []
  }
 ],
 "metadata": {
  "kernelspec": {
   "display_name": "Python [conda env:base] *",
   "language": "python",
   "name": "conda-base-py"
  },
  "language_info": {
   "codemirror_mode": {
    "name": "ipython",
    "version": 3
   },
   "file_extension": ".py",
   "mimetype": "text/x-python",
   "name": "python",
   "nbconvert_exporter": "python",
   "pygments_lexer": "ipython3",
   "version": "3.13.5"
  }
 },
 "nbformat": 4,
 "nbformat_minor": 5
}
